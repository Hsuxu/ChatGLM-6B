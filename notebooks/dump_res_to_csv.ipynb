{
 "cells": [
  {
   "cell_type": "code",
   "execution_count": 2,
   "metadata": {},
   "outputs": [],
   "source": [
    "import os\n",
    "import json\n",
    "from pathlib import Path\n",
    "import pandas as pd\n",
    "from datasets import Dataset,load_dataset"
   ]
  },
  {
   "cell_type": "code",
   "execution_count": 3,
   "metadata": {},
   "outputs": [],
   "source": [
    "root_path = '/mnt/users/LLMa/ChatGLM-6B'\n",
    "\n",
    "output_folder= 'lung_conclusion-chatglm-6b-pt1-128-1e-3'\n",
    "\n",
    "gt_json = os.path.join(root_path,\"data/LUNG/val_conclusion_500.json\")\n",
    "pred_json = os.path.join(root_path,\"output\",output_folder,  \"generated_predictions.txt\")\n",
    "csv_file = os.path.join(root_path,\"output\",output_folder,\"compose_lung_0424.xlsx\")"
   ]
  },
  {
   "cell_type": "code",
   "execution_count": 8,
   "metadata": {},
   "outputs": [
    {
     "name": "stdout",
     "output_type": "stream",
     "text": [
      "Downloading and preparing dataset json/default to /mnt/users/.cache/huggingface/datasets/json/default-4ee0f01b55834b32/0.0.0/0f7e3662623656454fcd2b650f34e886a7db4b9104504885bd462096cc7a9f51...\n"
     ]
    },
    {
     "data": {
      "application/vnd.jupyter.widget-view+json": {
       "model_id": "29a8c8c4c1ce410ca428846cabfc250d",
       "version_major": 2,
       "version_minor": 0
      },
      "text/plain": [
       "Downloading data files:   0%|          | 0/1 [00:00<?, ?it/s]"
      ]
     },
     "metadata": {},
     "output_type": "display_data"
    },
    {
     "data": {
      "application/vnd.jupyter.widget-view+json": {
       "model_id": "134e58fbaaf34582846b23b2d63e5f68",
       "version_major": 2,
       "version_minor": 0
      },
      "text/plain": [
       "Extracting data files:   0%|          | 0/1 [00:00<?, ?it/s]"
      ]
     },
     "metadata": {},
     "output_type": "display_data"
    },
    {
     "data": {
      "application/vnd.jupyter.widget-view+json": {
       "model_id": "804ce56b74d742e087606970ca7dfdcc",
       "version_major": 2,
       "version_minor": 0
      },
      "text/plain": [
       "Generating train split: 0 examples [00:00, ? examples/s]"
      ]
     },
     "metadata": {},
     "output_type": "display_data"
    },
    {
     "name": "stdout",
     "output_type": "stream",
     "text": [
      "Dataset json downloaded and prepared to /mnt/users/.cache/huggingface/datasets/json/default-4ee0f01b55834b32/0.0.0/0f7e3662623656454fcd2b650f34e886a7db4b9104504885bd462096cc7a9f51. Subsequent calls will reuse this data.\n"
     ]
    },
    {
     "data": {
      "application/vnd.jupyter.widget-view+json": {
       "model_id": "70747647d31b41518f3f3beceb8de3dd",
       "version_major": 2,
       "version_minor": 0
      },
      "text/plain": [
       "  0%|          | 0/1 [00:00<?, ?it/s]"
      ]
     },
     "metadata": {},
     "output_type": "display_data"
    },
    {
     "name": "stderr",
     "output_type": "stream",
     "text": [
      "Found cached dataset json (/mnt/users/.cache/huggingface/datasets/json/default-691180fe522198de/0.0.0/0f7e3662623656454fcd2b650f34e886a7db4b9104504885bd462096cc7a9f51)\n"
     ]
    },
    {
     "data": {
      "application/vnd.jupyter.widget-view+json": {
       "model_id": "a4b919e1f4da4a02a601759b77d860e2",
       "version_major": 2,
       "version_minor": 0
      },
      "text/plain": [
       "  0%|          | 0/1 [00:00<?, ?it/s]"
      ]
     },
     "metadata": {},
     "output_type": "display_data"
    }
   ],
   "source": [
    "gt_data = load_dataset('json',data_files=gt_json,use_auth_token=True)\n",
    "pred_data = load_dataset('json',data_files=pred_json,use_auth_token=True)"
   ]
  },
  {
   "cell_type": "code",
   "execution_count": 9,
   "metadata": {},
   "outputs": [],
   "source": [
    "inputs = gt_data['train']['Input']\n",
    "labels  = gt_data['train']['Output']\n",
    "preds = pred_data['train']['predict']\n",
    "compose_data = Dataset.from_dict({'Report':inputs,\n",
    "                                  'Doc_Conclusion':labels,\n",
    "                                  'AI_Conclusion':preds})\n",
    "df = compose_data.to_pandas()\n",
    "\n",
    "writer = pd.ExcelWriter(csv_file, engine='xlsxwriter')\n",
    "\n",
    "df.to_excel(writer,index=False,sheet_name='Sheet1')\n",
    "worksheet = writer.sheets['Sheet1']\n",
    "worksheet.set_column(\"A:C\", 72)\n",
    "worksheet.set_default_row(40)\n",
    "workbook  = writer.book  \n",
    "\n",
    "format = workbook.add_format({\n",
    "    'text_wrap': True,\n",
    "    'valign': 'top',})\n",
    "for row_num,row in df.iterrows():\n",
    "    for col_num, value in enumerate(df.columns.values):  \n",
    "        worksheet.write(row_num+1, col_num, row[value], format)\n",
    "writer.close()"
   ]
  },
  {
   "cell_type": "code",
   "execution_count": null,
   "metadata": {},
   "outputs": [],
   "source": []
  }
 ],
 "metadata": {
  "kernelspec": {
   "display_name": "Python 3 (ipykernel)",
   "language": "python",
   "name": "python3"
  },
  "language_info": {
   "codemirror_mode": {
    "name": "ipython",
    "version": 3
   },
   "file_extension": ".py",
   "mimetype": "text/x-python",
   "name": "python",
   "nbconvert_exporter": "python",
   "pygments_lexer": "ipython3",
   "version": "3.9.16"
  }
 },
 "nbformat": 4,
 "nbformat_minor": 2
}
