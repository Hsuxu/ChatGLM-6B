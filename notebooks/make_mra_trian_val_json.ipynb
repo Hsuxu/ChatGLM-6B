{
 "cells": [
  {
   "cell_type": "code",
   "execution_count": 3,
   "metadata": {},
   "outputs": [],
   "source": [
    "import os\n",
    "import json5\n",
    "import json\n",
    "import math\n",
    "import pandas as pd\n",
    "import numpy as np\n",
    "from datasets import load_dataset,Dataset"
   ]
  },
  {
   "cell_type": "code",
   "execution_count": 4,
   "metadata": {},
   "outputs": [],
   "source": [
    "origin_xlsx = '/mnt/users/LLMa/ChatGLM-6B/data/MRA/头MRA数据-24个中心所有数据汇总-to深睿-1101.xlsx'\n",
    "train_xlsx =  '/mnt/users/LLMa/ChatGLM-6B/data/MRA/东总血管疾病stl信息统计_20230220_3222例.xlsx'\n",
    "val_xlsx = '/mnt/users/LLMa/ChatGLM-6B/data/MRA/东总血管疾病stl信息统计_1172例.xlsx'"
   ]
  },
  {
   "cell_type": "code",
   "execution_count": 5,
   "metadata": {},
   "outputs": [],
   "source": [
    "origin_df = pd.read_excel(origin_xlsx,converters={'ID': str})\n",
    "train_df = pd.read_excel(train_xlsx,converters={'ID': str})\n",
    "val_df = pd.read_excel(val_xlsx,converters={'ID': str})\n",
    "\n",
    "# origin_df['ID'] = origin_df['ID'].astype(str)\n",
    "# train_df['ID'] = train_df['ID'].astype(str)\n",
    "# val_df['ID'] = val_df['ID'].astype(str)"
   ]
  },
  {
   "cell_type": "code",
   "execution_count": 39,
   "metadata": {},
   "outputs": [],
   "source": [
    "def get_pair(row,origin_df):\n",
    "    # get original row\n",
    "    pid = str(row['ID'])\n",
    "    origin_row = origin_df.query(\"ID == '{}'\".format(pid))\n",
    "    \n",
    "    if len(origin_row)==0:\n",
    "        print(pid,'no origin report df')\n",
    "        return None\n",
    "        # continue\n",
    "    \n",
    "    res = ''\n",
    "    hemo = row['MR是否有颅内出血？']\n",
    "    count=1\n",
    "    if '无出血' not in hemo:\n",
    "        res+='{}.{};  '.format(count,hemo.strip())\n",
    "        count+=1\n",
    "    \n",
    "    other = row['MR是否合并其他颅脑状况？']\n",
    "    if '无' not in str(other):\n",
    "        res+='{}.{};  '.format(count,str(other).strip())\n",
    "        count+=1\n",
    "\n",
    "    avm = row['是否存在动静脉畸形']\n",
    "    if '无' not in avm:\n",
    "        res+='{}.动静脉畸形;  '.format(count,avm.strip())\n",
    "        count+=1\n",
    "    \n",
    "    for j in range(1,7):\n",
    "        lesion = row['病灶{}'.format(j)]\n",
    "        section = row['血管段{}'.format(j)]\n",
    "        lr = row['左右{}'.format(j)]\n",
    "        size = ''\n",
    "        if pd.isna(lesion):\n",
    "            lesion=''\n",
    "        if pd.isna(section):\n",
    "            section=''\n",
    "        if pd.isna(lr):\n",
    "            lr = ''\n",
    "        if lesion+section+lr=='':\n",
    "            continue\n",
    "        elif '动脉瘤' in lesion:\n",
    "            size = lesion.replace('#','')\n",
    "            size = size.replace('＃','')\n",
    "            size = size.split(':')[-1].strip()\n",
    "            lesion = '动脉瘤'\n",
    "            if len(size)>0:\n",
    "                isdecimal=True\n",
    "                try:\n",
    "                    size = float(size)\n",
    "                except ValueError:\n",
    "                    isdecimal=False\n",
    "                if isdecimal:\n",
    "                    size = str(size)+'mm'\n",
    "        if size!='':\n",
    "            res+='{}.{}:左右:{}, 血管分段:{}, 大小:{};  '.format(count,lesion,lr,section,size)\n",
    "        else:\n",
    "            res+='{}.{}:左右:{}, 血管分段:{};  '.format(count,lesion,lr,section)\n",
    "        count+=1\n",
    "   \n",
    "    if len(res) == 0:\n",
    "        res = '颅脑MR未见异常'\n",
    "    item0 = list(origin_row['MR所见'])[0]\n",
    "    if pd.isna(item0):\n",
    "        item0=''\n",
    "    item1 = list(origin_row['MR报告'])[0]\n",
    "    if pd.isna(item1):\n",
    "        item1=''\n",
    "    mr_content = item0 #+'\\n'+item1\n",
    "    if len(mr_content)==0:\n",
    "        print(pid)\n",
    "    pair = {'Input':mr_content,'Output':res}\n",
    "    return pair"
   ]
  },
  {
   "cell_type": "code",
   "execution_count": 40,
   "metadata": {},
   "outputs": [
    {
     "name": "stdout",
     "output_type": "stream",
     "text": [
      "p01287091 no origin report df\n",
      "298386\n",
      "571120\n",
      "677898\n",
      "712321\n",
      "742682\n",
      "757422\n",
      "613937\n",
      "00202609\n",
      "00227851\n",
      "00238140\n",
      "00258355\n",
      "00272197\n",
      "00299629\n",
      "00304793\n",
      "00324744\n",
      "00334281\n",
      "00334522\n",
      "00356814\n",
      "00370793\n",
      "00416120\n",
      "00429807\n",
      "00450534\n",
      "00452578\n",
      "00470003\n",
      "00483542\n",
      "00582043\n",
      "00609959\n",
      "00611623\n",
      "00636491\n",
      "00669169\n",
      "00675693\n",
      "00684761\n",
      "00702744\n",
      "00704778\n",
      "00729125\n",
      "259158\n",
      "285508\n",
      "491035\n",
      "491390\n",
      "622235\n",
      "673899\n",
      "686199\n",
      "686665\n",
      "687092\n",
      "711032\n",
      "724326\n",
      "741497\n",
      "759963\n",
      "780133\n",
      "784106\n",
      "829363\n",
      "852292\n",
      "893724\n",
      "896458\n",
      "917227\n",
      "927070\n",
      "995839\n",
      "1002198\n",
      "1029923\n",
      "1045275\n",
      "1057544\n",
      "1094148\n",
      "1098615\n",
      "1104591\n",
      "1105556\n",
      "1132744\n",
      "1193787\n",
      "1213082\n",
      "00400724\n",
      "00400202\n",
      "00408770\n",
      "00409067\n",
      "00410471\n",
      "00413595\n",
      "00415720\n",
      "00420679\n",
      "00421382\n",
      "00436878\n",
      "00449970\n",
      "00453234\n",
      "00454999\n",
      "00455550\n",
      "00457864\n",
      "00460581\n",
      "00460881\n",
      "00471547\n",
      "1806220168\n",
      "1806240021\n",
      "1806280176\n",
      "p1806260019\n",
      "p1806260019\n",
      "MR298402\n",
      "00170194\n",
      "00177642\n",
      "00179251\n",
      "00213760\n",
      "00220974\n",
      "00230126\n",
      "00242783\n",
      "00244045\n",
      "00244299\n",
      "00252668\n",
      "00255182\n",
      "00262242\n",
      "00275892\n",
      "00275920\n",
      "00285460\n",
      "00289858\n",
      "00300136\n",
      "00301878\n",
      "00303005\n",
      "00306408\n",
      "00309600\n",
      "00312371\n",
      "00314320\n",
      "00321446\n",
      "00328845\n",
      "00333309\n",
      "00334061\n",
      "00335798\n",
      "00337052\n",
      "00337984\n",
      "00346725\n",
      "00348633\n",
      "00366839\n",
      "00368964\n",
      "00372400\n",
      "00374450\n",
      "00380959\n",
      "00382177\n",
      "00382577\n",
      "00384805\n",
      "00387374\n",
      "00391976\n",
      "00399150\n",
      "00399202\n",
      "00400508\n",
      "389399\n",
      "494894\n",
      "556924\n",
      "581836\n",
      "717324\n",
      "721300\n",
      "742852\n",
      "747253\n",
      "766122\n",
      "770363\n",
      "781383\n",
      "789647\n",
      "850614\n",
      "855408\n",
      "856547\n",
      "876018\n",
      "1020020\n",
      "1034779\n",
      "1067322\n",
      "1072034\n",
      "1083539\n",
      "1095740\n",
      "1127970\n",
      "1141617\n",
      "1145123\n",
      "1221359\n",
      "1263736\n",
      "1296396\n",
      "1326148\n",
      "1396915\n",
      "1409967\n",
      "1228090\n",
      "1265032\n",
      "1274364\n",
      "1302135\n",
      "1311837\n",
      "1319425\n",
      "1390717\n",
      "1396268\n",
      "1418476\n",
      "00164281\n",
      "00165943\n",
      "00477358\n",
      "00477462\n",
      "00478806\n",
      "00479022\n",
      "00486668\n",
      "00487489\n",
      "00490349\n",
      "00494572\n",
      "00500690\n",
      "00500719\n",
      "00507545\n",
      "00511846\n",
      "00517298\n",
      "00521003\n",
      "00522855\n",
      "00523585\n",
      "00524175\n",
      "00529945\n",
      "00535268\n",
      "00549298\n",
      "00550376\n",
      "00551325\n",
      "00557720\n",
      "00570396\n",
      "00571329\n"
     ]
    }
   ],
   "source": [
    "train_info=[]\n",
    "for idx,row in train_df.iterrows():\n",
    "    pair = get_pair(row,origin_df)\n",
    "    if pair is not None:\n",
    "        train_info.append(pair)"
   ]
  },
  {
   "cell_type": "code",
   "execution_count": 32,
   "metadata": {},
   "outputs": [
    {
     "name": "stdout",
     "output_type": "stream",
     "text": [
      "3221\n"
     ]
    },
    {
     "data": {
      "application/vnd.jupyter.widget-view+json": {
       "model_id": "4ba73da1bd524f01902ba64e58ab0daa",
       "version_major": 2,
       "version_minor": 0
      },
      "text/plain": [
       "Creating CSV from Arrow format:   0%|          | 0/4 [00:00<?, ?ba/s]"
      ]
     },
     "metadata": {},
     "output_type": "display_data"
    },
    {
     "data": {
      "application/vnd.jupyter.widget-view+json": {
       "model_id": "6e4473be03b24ca9aa6b8de9fa21e6a5",
       "version_major": 2,
       "version_minor": 0
      },
      "text/plain": [
       "Creating json from Arrow format:   0%|          | 0/4 [00:00<?, ?ba/s]"
      ]
     },
     "metadata": {},
     "output_type": "display_data"
    },
    {
     "data": {
      "text/plain": [
       "3715706"
      ]
     },
     "execution_count": 32,
     "metadata": {},
     "output_type": "execute_result"
    }
   ],
   "source": [
    "train_data = Dataset.from_list(train_info)\n",
    "print(len(train_data))\n",
    "# train_data.to_csv('/mnt/users/LLMa/ChatGLM-6B/data/MRA/train.csv')\n",
    "train_data.to_json('/mnt/users/LLMa/ChatGLM-6B/data/MRA/train.json')"
   ]
  },
  {
   "cell_type": "code",
   "execution_count": 33,
   "metadata": {},
   "outputs": [],
   "source": [
    "val_info=[]\n",
    "for idx,row in val_df.iterrows():\n",
    "    pair = get_pair(row,origin_df)\n",
    "    if pair is not None:\n",
    "        val_info.append(pair)"
   ]
  },
  {
   "cell_type": "code",
   "execution_count": 34,
   "metadata": {},
   "outputs": [
    {
     "name": "stdout",
     "output_type": "stream",
     "text": [
      "1171\n"
     ]
    },
    {
     "data": {
      "application/vnd.jupyter.widget-view+json": {
       "model_id": "79574b9cfaf94222b16825a971c09454",
       "version_major": 2,
       "version_minor": 0
      },
      "text/plain": [
       "Creating CSV from Arrow format:   0%|          | 0/2 [00:00<?, ?ba/s]"
      ]
     },
     "metadata": {},
     "output_type": "display_data"
    },
    {
     "data": {
      "application/vnd.jupyter.widget-view+json": {
       "model_id": "7350def06f114b8e9bed2555514b964e",
       "version_major": 2,
       "version_minor": 0
      },
      "text/plain": [
       "Creating json from Arrow format:   0%|          | 0/2 [00:00<?, ?ba/s]"
      ]
     },
     "metadata": {},
     "output_type": "display_data"
    },
    {
     "data": {
      "text/plain": [
       "1023064"
      ]
     },
     "execution_count": 34,
     "metadata": {},
     "output_type": "execute_result"
    }
   ],
   "source": [
    "val_data = Dataset.from_list(val_info)\n",
    "print(len(val_data))\n",
    "# val_data.to_csv('/mnt/users/LLMa/ChatGLM-6B/data/MRA/val.csv')\n",
    "val_data.to_json('/mnt/users/LLMa/ChatGLM-6B/data/MRA/val.json',force_ascii=False)"
   ]
  },
  {
   "cell_type": "code",
   "execution_count": null,
   "metadata": {},
   "outputs": [],
   "source": []
  }
 ],
 "metadata": {
  "kernelspec": {
   "display_name": "base",
   "language": "python",
   "name": "python3"
  },
  "language_info": {
   "codemirror_mode": {
    "name": "ipython",
    "version": 3
   },
   "file_extension": ".py",
   "mimetype": "text/x-python",
   "name": "python",
   "nbconvert_exporter": "python",
   "pygments_lexer": "ipython3",
   "version": "3.9.16"
  },
  "orig_nbformat": 4
 },
 "nbformat": 4,
 "nbformat_minor": 2
}
