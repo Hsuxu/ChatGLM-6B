{
 "cells": [
  {
   "cell_type": "code",
   "execution_count": 7,
   "metadata": {},
   "outputs": [],
   "source": [
    "import os\n",
    "from transformers import AutoTokenizer\n",
    "from collections import Counter"
   ]
  },
  {
   "cell_type": "code",
   "execution_count": 8,
   "metadata": {},
   "outputs": [],
   "source": [
    "string = '两肺纹理略增多，两肺下叶见多发小斑片状高密度影，边缘模糊，余肺未见明显实质性病灶；所见各支气管腔通畅，主动脉及冠状动脉见钙化，肺门及纵隔未见明显增大淋巴结；左肺尖胸膜局部增厚。,两肺下叶炎症，建议治疗后复查。\t左肺尖胸膜局部增厚，建议随访。\t主动脉及冠状动脉硬化。'"
   ]
  },
  {
   "cell_type": "code",
   "execution_count": 9,
   "metadata": {},
   "outputs": [
    {
     "name": "stderr",
     "output_type": "stream",
     "text": [
      "Explicitly passing a `revision` is encouraged when loading a model with custom code to ensure no malicious code has been contributed in a newer revision.\n"
     ]
    }
   ],
   "source": [
    "# token_path = '/mnt/data/xuchi/LLM_CKPT/fnlp/bart-base-chinese'\n",
    "# token_path = '/mnt/data/xuchi/LLM_CKPT/glm-large-chinese'\n",
    "token_path = '/mnt/data/xuchi/LLM_CKPT/chatglm-6b'\n",
    "# token_path = '/mnt/data/xuchi/LLM_CKPT/chinese-alpaca-lora-7b'\n",
    "tokenizer = AutoTokenizer.from_pretrained(token_path,trust_remote_code=True)"
   ]
  },
  {
   "cell_type": "code",
   "execution_count": 10,
   "metadata": {},
   "outputs": [],
   "source": [
    "s=tokenizer.tokenize(string)"
   ]
  },
  {
   "cell_type": "code",
   "execution_count": 11,
   "metadata": {},
   "outputs": [
    {
     "name": "stdout",
     "output_type": "stream",
     "text": [
      "['▁', '两', '肺', '纹理', '略', '增多', ',', '两', '肺', '下', '叶', '见', '多发', '小', '斑', '片状', '高密度', '影', ',', '边缘', '模糊', ',', '余', '肺', '未见', '明显', '实质性', '病灶', ';', '所见', '各', '支气管', '腔', '通畅', ',', '主动脉', '及', '冠状动脉', '见', '钙化', ',', '肺', '门', '及', '纵', '隔', '未见', '明显', '增大', '淋巴结', ';', '左', '肺', '尖', '胸', '膜', '局部', '增厚', '。', ',', '两', '肺', '下', '叶', '炎症', ',', '建议', '治疗后', '复查', '。', '<|tab|>', '左', '肺', '尖', '胸', '膜', '局部', '增厚', ',', '建议', '随访', '。', '<|tab|>', '主动脉', '及', '冠状动脉', '硬化', '。']\n"
     ]
    }
   ],
   "source": [
    "print(s)"
   ]
  },
  {
   "cell_type": "code",
   "execution_count": 12,
   "metadata": {},
   "outputs": [],
   "source": [
    "import jieba"
   ]
  },
  {
   "cell_type": "code",
   "execution_count": 18,
   "metadata": {},
   "outputs": [
    {
     "name": "stdout",
     "output_type": "stream",
     "text": [
      "Full Mode: 两肺/ 纹理/ 略/ 增多/ ，/ 两肺/ 下叶/ 见/ 多发/ 小斑/ 片状/ 高密度/ 影/ ，/ 边缘/ 模糊/ ，/ 余肺/ 未见/ 明显/ 实质性/ 病灶/ ；/ 所见/ 各/ 支气管/ 腔/ 通畅/ ，/ 主动脉/ 及/ 冠状动脉/ 见/ 钙化/ ，/ 肺门/ 及/ 纵隔/ 未见/ 明显/ 增大/ 淋巴结/ ；/ 左肺/ 尖/ 胸膜/ 局部/ 增厚/ 。/ ,/ 两肺/ 下叶/ 炎症/ ，/ 建议/ 治疗/ 后/ 复查/ 。/ \t/ 左肺/ 尖/ 胸膜/ 局部/ 增厚/ ，/ 建议/ 随访/ 。/ \t/ 主动脉/ 及/ 冠状动脉/ 硬化/ 。\n"
     ]
    }
   ],
   "source": [
    "seg_list= jieba.cut(string)\n",
    "print(\"Full Mode: \" + \"/ \".join(list(seg_list))) "
   ]
  },
  {
   "cell_type": "code",
   "execution_count": null,
   "metadata": {},
   "outputs": [],
   "source": []
  }
 ],
 "metadata": {
  "kernelspec": {
   "display_name": "base",
   "language": "python",
   "name": "python3"
  },
  "language_info": {
   "codemirror_mode": {
    "name": "ipython",
    "version": 3
   },
   "file_extension": ".py",
   "mimetype": "text/x-python",
   "name": "python",
   "nbconvert_exporter": "python",
   "pygments_lexer": "ipython3",
   "version": "3.9.16"
  },
  "orig_nbformat": 4
 },
 "nbformat": 4,
 "nbformat_minor": 2
}
